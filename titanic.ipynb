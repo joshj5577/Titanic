{
 "cells": [
  {
   "cell_type": "markdown",
   "metadata": {},
   "source": [
    "# Women and children first?"
   ]
  },
  {
   "cell_type": "markdown",
   "metadata": {},
   "source": [
    "## Preliminaries"
   ]
  },
  {
   "cell_type": "code",
   "execution_count": 31,
   "metadata": {},
   "outputs": [],
   "source": [
    "# Run this cell to start.\n",
    "import numpy as np\n",
    "import pandas as pd\n",
    "# Safe settings for Pandas.\n",
    "pd.set_option('mode.chained_assignment', 'raise')\n",
    "\n",
    "%matplotlib inline\n",
    "import matplotlib.pyplot as plt\n",
    "plt.style.use('fivethirtyeight')"
   ]
  },
  {
   "cell_type": "markdown",
   "metadata": {},
   "source": [
    "## Background\n",
    "\n",
    "We are going to look at the details of who was lost, and who survived, in the sinking of the RMS Titanic.\n",
    "\n",
    "We first read the dataset containing information about the passengers and crew\n",
    "who were on the RMS Titanic when it sank.\n",
    "\n",
    "The data file is `titanic_stlearn.csv`.\n",
    "\n",
    "See the [Titanic dataset page](https://github.com/matthew-brett/datasets/tree/master/titanic) for more detail.\n",
    "\n",
    "You might also want to look at [Encylopedia\n",
    "Titanica](https://www.encyclopedia-titanica.org/titanic-statistics.html) for\n",
    "more background."
   ]
  },
  {
   "cell_type": "code",
   "execution_count": 2,
   "metadata": {
    "scrolled": true
   },
   "outputs": [
    {
     "data": {
      "text/html": [
       "<div>\n",
       "<style scoped>\n",
       "    .dataframe tbody tr th:only-of-type {\n",
       "        vertical-align: middle;\n",
       "    }\n",
       "\n",
       "    .dataframe tbody tr th {\n",
       "        vertical-align: top;\n",
       "    }\n",
       "\n",
       "    .dataframe thead th {\n",
       "        text-align: right;\n",
       "    }\n",
       "</style>\n",
       "<table border=\"1\" class=\"dataframe\">\n",
       "  <thead>\n",
       "    <tr style=\"text-align: right;\">\n",
       "      <th></th>\n",
       "      <th>name</th>\n",
       "      <th>gender</th>\n",
       "      <th>age</th>\n",
       "      <th>class</th>\n",
       "      <th>embarked</th>\n",
       "      <th>country</th>\n",
       "      <th>ticketno</th>\n",
       "      <th>fare</th>\n",
       "      <th>sibsp</th>\n",
       "      <th>parch</th>\n",
       "      <th>survived</th>\n",
       "    </tr>\n",
       "  </thead>\n",
       "  <tbody>\n",
       "    <tr>\n",
       "      <th>0</th>\n",
       "      <td>Abbing, Mr. Anthony</td>\n",
       "      <td>male</td>\n",
       "      <td>42.0</td>\n",
       "      <td>3rd</td>\n",
       "      <td>Southampton</td>\n",
       "      <td>United States</td>\n",
       "      <td>5547.0</td>\n",
       "      <td>7.11</td>\n",
       "      <td>0.0</td>\n",
       "      <td>0.0</td>\n",
       "      <td>no</td>\n",
       "    </tr>\n",
       "    <tr>\n",
       "      <th>1</th>\n",
       "      <td>Abbott, Mr. Eugene Joseph</td>\n",
       "      <td>male</td>\n",
       "      <td>13.0</td>\n",
       "      <td>3rd</td>\n",
       "      <td>Southampton</td>\n",
       "      <td>United States</td>\n",
       "      <td>2673.0</td>\n",
       "      <td>20.05</td>\n",
       "      <td>0.0</td>\n",
       "      <td>2.0</td>\n",
       "      <td>no</td>\n",
       "    </tr>\n",
       "    <tr>\n",
       "      <th>2</th>\n",
       "      <td>Abbott, Mr. Rossmore Edward</td>\n",
       "      <td>male</td>\n",
       "      <td>16.0</td>\n",
       "      <td>3rd</td>\n",
       "      <td>Southampton</td>\n",
       "      <td>United States</td>\n",
       "      <td>2673.0</td>\n",
       "      <td>20.05</td>\n",
       "      <td>1.0</td>\n",
       "      <td>1.0</td>\n",
       "      <td>no</td>\n",
       "    </tr>\n",
       "    <tr>\n",
       "      <th>3</th>\n",
       "      <td>Abbott, Mrs. Rhoda Mary 'Rosa'</td>\n",
       "      <td>female</td>\n",
       "      <td>39.0</td>\n",
       "      <td>3rd</td>\n",
       "      <td>Southampton</td>\n",
       "      <td>England</td>\n",
       "      <td>2673.0</td>\n",
       "      <td>20.05</td>\n",
       "      <td>1.0</td>\n",
       "      <td>1.0</td>\n",
       "      <td>yes</td>\n",
       "    </tr>\n",
       "    <tr>\n",
       "      <th>4</th>\n",
       "      <td>Abelseth, Miss. Karen Marie</td>\n",
       "      <td>female</td>\n",
       "      <td>16.0</td>\n",
       "      <td>3rd</td>\n",
       "      <td>Southampton</td>\n",
       "      <td>Norway</td>\n",
       "      <td>348125.0</td>\n",
       "      <td>7.13</td>\n",
       "      <td>0.0</td>\n",
       "      <td>0.0</td>\n",
       "      <td>yes</td>\n",
       "    </tr>\n",
       "  </tbody>\n",
       "</table>\n",
       "</div>"
      ],
      "text/plain": [
       "                             name  gender   age class     embarked  \\\n",
       "0             Abbing, Mr. Anthony    male  42.0   3rd  Southampton   \n",
       "1       Abbott, Mr. Eugene Joseph    male  13.0   3rd  Southampton   \n",
       "2     Abbott, Mr. Rossmore Edward    male  16.0   3rd  Southampton   \n",
       "3  Abbott, Mrs. Rhoda Mary 'Rosa'  female  39.0   3rd  Southampton   \n",
       "4     Abelseth, Miss. Karen Marie  female  16.0   3rd  Southampton   \n",
       "\n",
       "         country  ticketno   fare  sibsp  parch survived  \n",
       "0  United States    5547.0   7.11    0.0    0.0       no  \n",
       "1  United States    2673.0  20.05    0.0    2.0       no  \n",
       "2  United States    2673.0  20.05    1.0    1.0       no  \n",
       "3        England    2673.0  20.05    1.0    1.0      yes  \n",
       "4         Norway  348125.0   7.13    0.0    0.0      yes  "
      ]
     },
     "execution_count": 2,
     "metadata": {},
     "output_type": "execute_result"
    }
   ],
   "source": [
    "titanic = pd.read_csv('titanic_stlearn.csv')\n",
    "titanic.head()"
   ]
  },
  {
   "cell_type": "markdown",
   "metadata": {},
   "source": [
    "This data file contains the following columns:\n",
    "\n",
    "* `name`: a string with the name of the passenger.\n",
    "* `gender`: a string with one of two labels: \"male\" and \"female\".\n",
    "* `age`: a numeric value with the person's age on the day of the sinking. The\n",
    "  age of babies (under 12 months) is given as a fraction of one year, rounded\n",
    "  to the nearest month (2 months = 2/12 = 0.1667).\n",
    "* `class`: a string specifying the class for passengers: \"1st\", \"2nd\", \"3rd\";\n",
    "  or the type of service aboard for crew members. See below for discussion of\n",
    "  passengers, crew and the crew service types.\n",
    "* `embarked`: a string with the person's port of embarkation, one of:\n",
    "  \"Belfast\", \"Cherbourg\", \"Queenstown\" or \"Southampton\".\n",
    "* `country`: a string with the person's home country.\n",
    "* `ticketno`: a numeric value specifying the persons ticket number (NA for crew\n",
    "  members, also see below).\n",
    "* `fare`: a numeric value with the ticket price (NA for crew members, musicians\n",
    "  and employees of the shipyard company, also see below).\n",
    "* `sibsp`: an integer specifying the number of siblings/spouses aboard; adopted\n",
    "  from Vanderbilt data set (see below).  Always NA for crew, sometimes NA for\n",
    "  passengers.\n",
    "* `parch`: an ordered factor specifying the number of parents/children aboard;\n",
    "  adopted from Vanderbilt data set (see below).  Always NA for crew, sometimes\n",
    "  NA for passengers.\n",
    "* `survived`: a string with one of two labels: \"no\" and \"yes\". It specifies\n",
    "  whether the person survived the sinking."
   ]
  },
  {
   "cell_type": "markdown",
   "metadata": {},
   "source": [
    "## Women and children first\n",
    "\n",
    "The RMS Titanic sank on 15th April 1912. A standard rule of evacuation at the\n",
    "time was [Women and Children\n",
    "First](https://en.wikipedia.org/wiki/Women_and_children_first).  Wikipedia\n",
    "claims that the original suggestion for this rule was from a French passenger\n",
    "of a ship in danger, in 1840.\n",
    "\n",
    "How strictly was that rule applied in the evacuation of the Titanic?"
   ]
  },
  {
   "cell_type": "code",
   "execution_count": 4,
   "metadata": {},
   "outputs": [
    {
     "data": {
      "text/html": [
       "<div>\n",
       "<style scoped>\n",
       "    .dataframe tbody tr th:only-of-type {\n",
       "        vertical-align: middle;\n",
       "    }\n",
       "\n",
       "    .dataframe tbody tr th {\n",
       "        vertical-align: top;\n",
       "    }\n",
       "\n",
       "    .dataframe thead th {\n",
       "        text-align: right;\n",
       "    }\n",
       "</style>\n",
       "<table border=\"1\" class=\"dataframe\">\n",
       "  <thead>\n",
       "    <tr style=\"text-align: right;\">\n",
       "      <th>survived</th>\n",
       "      <th>no</th>\n",
       "      <th>yes</th>\n",
       "    </tr>\n",
       "    <tr>\n",
       "      <th>gender</th>\n",
       "      <th></th>\n",
       "      <th></th>\n",
       "    </tr>\n",
       "  </thead>\n",
       "  <tbody>\n",
       "    <tr>\n",
       "      <th>female</th>\n",
       "      <td>130</td>\n",
       "      <td>359</td>\n",
       "    </tr>\n",
       "    <tr>\n",
       "      <th>male</th>\n",
       "      <td>1366</td>\n",
       "      <td>352</td>\n",
       "    </tr>\n",
       "  </tbody>\n",
       "</table>\n",
       "</div>"
      ],
      "text/plain": [
       "survived    no  yes\n",
       "gender             \n",
       "female     130  359\n",
       "male      1366  352"
      ]
     },
     "execution_count": 4,
     "metadata": {},
     "output_type": "execute_result"
    }
   ],
   "source": [
    "gender_by_survived = pd.crosstab(titanic['gender'], titanic['survived'])\n",
    "# Show the table in the notebook\n",
    "gender_by_survived"
   ]
  },
  {
   "cell_type": "markdown",
   "metadata": {},
   "source": [
    "These counts are useful, but even more useful would be *proportions* of women\n",
    "who were lost and who survived.  "
   ]
  },
  {
   "cell_type": "code",
   "execution_count": 6,
   "metadata": {},
   "outputs": [
    {
     "data": {
      "text/html": [
       "<div>\n",
       "<style scoped>\n",
       "    .dataframe tbody tr th:only-of-type {\n",
       "        vertical-align: middle;\n",
       "    }\n",
       "\n",
       "    .dataframe tbody tr th {\n",
       "        vertical-align: top;\n",
       "    }\n",
       "\n",
       "    .dataframe thead th {\n",
       "        text-align: right;\n",
       "    }\n",
       "</style>\n",
       "<table border=\"1\" class=\"dataframe\">\n",
       "  <thead>\n",
       "    <tr style=\"text-align: right;\">\n",
       "      <th>survived</th>\n",
       "      <th>no</th>\n",
       "      <th>yes</th>\n",
       "    </tr>\n",
       "    <tr>\n",
       "      <th>gender</th>\n",
       "      <th></th>\n",
       "      <th></th>\n",
       "    </tr>\n",
       "  </thead>\n",
       "  <tbody>\n",
       "    <tr>\n",
       "      <th>female</th>\n",
       "      <td>0.265849</td>\n",
       "      <td>0.734151</td>\n",
       "    </tr>\n",
       "    <tr>\n",
       "      <th>male</th>\n",
       "      <td>0.795111</td>\n",
       "      <td>0.204889</td>\n",
       "    </tr>\n",
       "  </tbody>\n",
       "</table>\n",
       "</div>"
      ],
      "text/plain": [
       "survived        no       yes\n",
       "gender                      \n",
       "female    0.265849  0.734151\n",
       "male      0.795111  0.204889"
      ]
     },
     "execution_count": 6,
     "metadata": {},
     "output_type": "execute_result"
    }
   ],
   "source": [
    "gender_by_survived_p = pd.crosstab(titanic['gender'], titanic['survived'], normalize = 'index')\n",
    "\n",
    "# Show the table in the notebook\n",
    "gender_by_survived_p"
   ]
  },
  {
   "cell_type": "markdown",
   "metadata": {},
   "source": [
    "This should look like pretty convincing evidence that the crew largely followed\n",
    "the \"women\" part of the \"Women and children first\" rule.  Next we investigate\n",
    "the \"children\" part.\n",
    "\n",
    "We need a Series that allows us to categorize the passenger as a `male`, a\n",
    "`female` or a `child`.\n",
    "\n",
    "First we make a new series `mwc` (Man Woman Child) that has a copy of the data\n",
    "from the `gender` column."
   ]
  },
  {
   "cell_type": "code",
   "execution_count": 32,
   "metadata": {},
   "outputs": [
    {
     "data": {
      "text/plain": [
       "0      male\n",
       "1      male\n",
       "2      male\n",
       "3    female\n",
       "4    female\n",
       "Name: gender, dtype: object"
      ]
     },
     "execution_count": 32,
     "metadata": {},
     "output_type": "execute_result"
    }
   ],
   "source": [
    "mwc = titanic['gender'].copy()\n",
    "mwc.head()"
   ]
  },
  {
   "cell_type": "code",
   "execution_count": 33,
   "metadata": {},
   "outputs": [
    {
     "data": {
      "text/plain": [
       "male      1651\n",
       "female     432\n",
       "child      124\n",
       "Name: gender, dtype: int64"
      ]
     },
     "execution_count": 33,
     "metadata": {},
     "output_type": "execute_result"
    }
   ],
   "source": [
    "is_child = titanic['age'] < 15\n",
    "mwc[is_child] = 'child'\n",
    "# Show the unique values and counts for the \"mwc\" Series.\n",
    "mwc.value_counts()"
   ]
  },
  {
   "cell_type": "markdown",
   "metadata": {},
   "source": [
    "Create a cross-tabulation data frame called `mwc_by_survived_p` that has the\n",
    "proportions of children, females and males that were saved and lost. "
   ]
  },
  {
   "cell_type": "code",
   "execution_count": 34,
   "metadata": {},
   "outputs": [],
   "source": [
    "new_titanic = pd.DataFrame()\n",
    "new_titanic['gender'] = titanic['gender'].copy()\n",
    "new_titanic['survived'] = titanic['survived'].copy()"
   ]
  },
  {
   "cell_type": "code",
   "execution_count": 35,
   "metadata": {},
   "outputs": [],
   "source": [
    "new_titanic['gender'] = mwc"
   ]
  },
  {
   "cell_type": "code",
   "execution_count": 36,
   "metadata": {},
   "outputs": [
    {
     "data": {
      "text/html": [
       "<div>\n",
       "<style scoped>\n",
       "    .dataframe tbody tr th:only-of-type {\n",
       "        vertical-align: middle;\n",
       "    }\n",
       "\n",
       "    .dataframe tbody tr th {\n",
       "        vertical-align: top;\n",
       "    }\n",
       "\n",
       "    .dataframe thead th {\n",
       "        text-align: right;\n",
       "    }\n",
       "</style>\n",
       "<table border=\"1\" class=\"dataframe\">\n",
       "  <thead>\n",
       "    <tr style=\"text-align: right;\">\n",
       "      <th>survived</th>\n",
       "      <th>no</th>\n",
       "      <th>yes</th>\n",
       "    </tr>\n",
       "    <tr>\n",
       "      <th>gender</th>\n",
       "      <th></th>\n",
       "      <th></th>\n",
       "    </tr>\n",
       "  </thead>\n",
       "  <tbody>\n",
       "    <tr>\n",
       "      <th>child</th>\n",
       "      <td>0.475806</td>\n",
       "      <td>0.524194</td>\n",
       "    </tr>\n",
       "    <tr>\n",
       "      <th>female</th>\n",
       "      <td>0.243056</td>\n",
       "      <td>0.756944</td>\n",
       "    </tr>\n",
       "    <tr>\n",
       "      <th>male</th>\n",
       "      <td>0.806784</td>\n",
       "      <td>0.193216</td>\n",
       "    </tr>\n",
       "  </tbody>\n",
       "</table>\n",
       "</div>"
      ],
      "text/plain": [
       "survived        no       yes\n",
       "gender                      \n",
       "child     0.475806  0.524194\n",
       "female    0.243056  0.756944\n",
       "male      0.806784  0.193216"
      ]
     },
     "execution_count": 36,
     "metadata": {},
     "output_type": "execute_result"
    }
   ],
   "source": [
    "mwc_by_survived_p = pd.crosstab(new_titanic['gender'], new_titanic['survived'], normalize = 'index')\n",
    "mwc_by_survived_p"
   ]
  },
  {
   "cell_type": "markdown",
   "metadata": {},
   "source": [
    "## Being at the front\n",
    "\n",
    "The next factor we know well is that passengers in higher classes were more\n",
    "likely to survive.\n",
    "\n",
    "The problem we have at the moment is that the `class` column in this dataset is a mix of things:"
   ]
  },
  {
   "cell_type": "code",
   "execution_count": 37,
   "metadata": {},
   "outputs": [
    {
     "data": {
      "text/plain": [
       "3rd                 709\n",
       "victualling crew    431\n",
       "1st                 324\n",
       "engineering crew    324\n",
       "2nd                 284\n",
       "restaurant staff     69\n",
       "deck crew            66\n",
       "Name: class, dtype: int64"
      ]
     },
     "execution_count": 37,
     "metadata": {},
     "output_type": "execute_result"
    }
   ],
   "source": [
    "titanic['class'].value_counts()"
   ]
  },
  {
   "cell_type": "markdown",
   "metadata": {},
   "source": [
    "The `class` column contains \"1st\", \"2nd\", \"3rd\" for some people, but it has job\n",
    "titles for others, such as \"deck crew\".\n",
    "\n",
    "Worse than that, some of the people in \"1st\" and \"2nd\" class were closer to\n",
    "being crew than passengers.  For example, there were [8\n",
    "musicians](https://en.wikipedia.org/wiki/Musicians_of_the_RMS_Titanic), who\n",
    "were all listed as \"2nd\" class passengers. There were [9 members of the Guarantee\n",
    "Group](https://en.wikipedia.org/wiki/Crew_of_the_RMS_Titanic#Guarantee_group)\n",
    "on board, whose job was to monitor the ship and fix any problems that arose on\n",
    "her maiden voyage.  They also have passenger classes listed as \"1st\" or \"2nd\".\n",
    "\n",
    "We would like to be able to classify the people (rows) in the dataset as one of the following:\n",
    "\n",
    "* Genuine First class passenger: \"1st\".\n",
    "* Genuine Second class passenger: \"2nd\".\n",
    "* Genuine Third class passenger: \"3rd\".\n",
    "* Musician: \"musician\".\n",
    "* Guarantee group: \"guarantee\".\n",
    "* Deck crew: \"deck\".\n",
    "* Engineering crew: \"engineering\".\n",
    "* Victualling crew or restaurant staff: \"catering\".\n",
    "\n",
    "That is, we need a new Series, maybe called `roles`, with one element per row\n",
    "in the dataset, that has one of these string labels, classifying the person in\n",
    "the corresponding row. For example, the first five people in the dataset are\n",
    "genuine Third Class passengers, so the first five elements in `roles` would be\n",
    "\"3rd\".\n",
    "\n",
    "Much of the information we need is in the `class` column of `titanic` - but we\n",
    "have more work to do, especially for the musicians and the guarantee group.\n",
    "\n",
    "One way of doing this task is to use a *recoding function*.  You saw one of\n",
    "these in action your \"stop and search\" homework.  In the homework, the function\n",
    "applied to a Series (and therefore, a column of a data frame), and, when used\n",
    "with `apply`, returned a Series.\n",
    "\n",
    "Here we need to use information from multiple columns in the person's row to\n",
    "classify them, so we need to take a different approach.   We need to `apply` a\n",
    "function to the whole data frame, to return our new Series `roles`.\n",
    "\n",
    "Here is an example of how to do this.  The function below is a *row recoding\n",
    "function*.  It accepts a *row* as its argument, and returns a value.\n",
    "\n",
    "In this case, the function returns \"adult\" for a row where the person's age was\n",
    "15 or more, and otherwise (for persons with age < 15) returns \"female child\"\n",
    "for \"female\" persons and \"male child\" otherwise."
   ]
  },
  {
   "cell_type": "code",
   "execution_count": 38,
   "metadata": {},
   "outputs": [],
   "source": [
    "def classify_mf_child(row):\n",
    "    if row.loc['age'] >= 15:\n",
    "        return 'adult'\n",
    "    if row.loc['gender'] == 'female':\n",
    "        return 'female child'\n",
    "    return 'male child'"
   ]
  },
  {
   "cell_type": "markdown",
   "metadata": {},
   "source": [
    "To see the function in action, let's classify the first row of `titanic`:"
   ]
  },
  {
   "cell_type": "code",
   "execution_count": 39,
   "metadata": {},
   "outputs": [
    {
     "data": {
      "text/plain": [
       "'adult'"
      ]
     },
     "execution_count": 39,
     "metadata": {},
     "output_type": "execute_result"
    }
   ],
   "source": [
    "classify_mf_child(titanic.iloc[0])"
   ]
  },
  {
   "cell_type": "markdown",
   "metadata": {},
   "source": [
    "Classify the second row:"
   ]
  },
  {
   "cell_type": "code",
   "execution_count": 40,
   "metadata": {},
   "outputs": [
    {
     "data": {
      "text/plain": [
       "'male child'"
      ]
     },
     "execution_count": 40,
     "metadata": {},
     "output_type": "execute_result"
    }
   ],
   "source": [
    "classify_mf_child(titanic.iloc[1])"
   ]
  },
  {
   "cell_type": "markdown",
   "metadata": {},
   "source": [
    "Then we can `apply` this function to the whole data frame, to return a classification for each row in the data frame:"
   ]
  },
  {
   "cell_type": "code",
   "execution_count": 41,
   "metadata": {},
   "outputs": [
    {
     "data": {
      "text/plain": [
       "0         adult\n",
       "1    male child\n",
       "2         adult\n",
       "3         adult\n",
       "4         adult\n",
       "dtype: object"
      ]
     },
     "execution_count": 41,
     "metadata": {},
     "output_type": "execute_result"
    }
   ],
   "source": [
    "mf_child = titanic.apply(classify_mf_child, axis='columns')\n",
    "mf_child.head()"
   ]
  },
  {
   "cell_type": "code",
   "execution_count": 42,
   "metadata": {},
   "outputs": [
    {
     "data": {
      "text/html": [
       "<div>\n",
       "<style scoped>\n",
       "    .dataframe tbody tr th:only-of-type {\n",
       "        vertical-align: middle;\n",
       "    }\n",
       "\n",
       "    .dataframe tbody tr th {\n",
       "        vertical-align: top;\n",
       "    }\n",
       "\n",
       "    .dataframe thead th {\n",
       "        text-align: right;\n",
       "    }\n",
       "</style>\n",
       "<table border=\"1\" class=\"dataframe\">\n",
       "  <thead>\n",
       "    <tr style=\"text-align: right;\">\n",
       "      <th></th>\n",
       "      <th>name</th>\n",
       "      <th>gender</th>\n",
       "      <th>age</th>\n",
       "      <th>class</th>\n",
       "      <th>embarked</th>\n",
       "      <th>country</th>\n",
       "      <th>ticketno</th>\n",
       "      <th>fare</th>\n",
       "      <th>sibsp</th>\n",
       "      <th>parch</th>\n",
       "      <th>survived</th>\n",
       "    </tr>\n",
       "  </thead>\n",
       "  <tbody>\n",
       "    <tr>\n",
       "      <th>144</th>\n",
       "      <td>Brailey, Mr. William Theodore Ronald</td>\n",
       "      <td>male</td>\n",
       "      <td>24.0</td>\n",
       "      <td>2nd</td>\n",
       "      <td>Southampton</td>\n",
       "      <td>England</td>\n",
       "      <td>250654.0</td>\n",
       "      <td>NaN</td>\n",
       "      <td>NaN</td>\n",
       "      <td>NaN</td>\n",
       "      <td>no</td>\n",
       "    </tr>\n",
       "    <tr>\n",
       "      <th>150</th>\n",
       "      <td>Bricoux, Mr. Roger Marie</td>\n",
       "      <td>male</td>\n",
       "      <td>20.0</td>\n",
       "      <td>2nd</td>\n",
       "      <td>Southampton</td>\n",
       "      <td>France</td>\n",
       "      <td>250654.0</td>\n",
       "      <td>NaN</td>\n",
       "      <td>NaN</td>\n",
       "      <td>NaN</td>\n",
       "      <td>no</td>\n",
       "    </tr>\n",
       "    <tr>\n",
       "      <th>237</th>\n",
       "      <td>Clarke, Mr. John Frederick Preston</td>\n",
       "      <td>male</td>\n",
       "      <td>28.0</td>\n",
       "      <td>2nd</td>\n",
       "      <td>Southampton</td>\n",
       "      <td>England</td>\n",
       "      <td>250654.0</td>\n",
       "      <td>NaN</td>\n",
       "      <td>NaN</td>\n",
       "      <td>NaN</td>\n",
       "      <td>no</td>\n",
       "    </tr>\n",
       "    <tr>\n",
       "      <th>516</th>\n",
       "      <td>Hartley, Mr. Wallace Henry</td>\n",
       "      <td>male</td>\n",
       "      <td>33.0</td>\n",
       "      <td>2nd</td>\n",
       "      <td>Southampton</td>\n",
       "      <td>England</td>\n",
       "      <td>250654.0</td>\n",
       "      <td>NaN</td>\n",
       "      <td>NaN</td>\n",
       "      <td>NaN</td>\n",
       "      <td>no</td>\n",
       "    </tr>\n",
       "    <tr>\n",
       "      <th>576</th>\n",
       "      <td>Hume, Mr. John Law</td>\n",
       "      <td>male</td>\n",
       "      <td>21.0</td>\n",
       "      <td>2nd</td>\n",
       "      <td>Southampton</td>\n",
       "      <td>NaN</td>\n",
       "      <td>250654.0</td>\n",
       "      <td>NaN</td>\n",
       "      <td>NaN</td>\n",
       "      <td>NaN</td>\n",
       "      <td>no</td>\n",
       "    </tr>\n",
       "    <tr>\n",
       "      <th>680</th>\n",
       "      <td>Krins, Mr. Georges Alexandre</td>\n",
       "      <td>male</td>\n",
       "      <td>23.0</td>\n",
       "      <td>2nd</td>\n",
       "      <td>Southampton</td>\n",
       "      <td>England</td>\n",
       "      <td>250654.0</td>\n",
       "      <td>NaN</td>\n",
       "      <td>NaN</td>\n",
       "      <td>NaN</td>\n",
       "      <td>no</td>\n",
       "    </tr>\n",
       "    <tr>\n",
       "      <th>1189</th>\n",
       "      <td>Taylor, Mr. Percy Cornelius</td>\n",
       "      <td>male</td>\n",
       "      <td>40.0</td>\n",
       "      <td>2nd</td>\n",
       "      <td>Southampton</td>\n",
       "      <td>England</td>\n",
       "      <td>250654.0</td>\n",
       "      <td>NaN</td>\n",
       "      <td>NaN</td>\n",
       "      <td>NaN</td>\n",
       "      <td>no</td>\n",
       "    </tr>\n",
       "    <tr>\n",
       "      <th>1304</th>\n",
       "      <td>Woodward, Mr. John Wesley</td>\n",
       "      <td>male</td>\n",
       "      <td>32.0</td>\n",
       "      <td>2nd</td>\n",
       "      <td>Southampton</td>\n",
       "      <td>England</td>\n",
       "      <td>250654.0</td>\n",
       "      <td>NaN</td>\n",
       "      <td>NaN</td>\n",
       "      <td>NaN</td>\n",
       "      <td>no</td>\n",
       "    </tr>\n",
       "  </tbody>\n",
       "</table>\n",
       "</div>"
      ],
      "text/plain": [
       "                                      name gender   age class     embarked  \\\n",
       "144   Brailey, Mr. William Theodore Ronald   male  24.0   2nd  Southampton   \n",
       "150               Bricoux, Mr. Roger Marie   male  20.0   2nd  Southampton   \n",
       "237     Clarke, Mr. John Frederick Preston   male  28.0   2nd  Southampton   \n",
       "516             Hartley, Mr. Wallace Henry   male  33.0   2nd  Southampton   \n",
       "576                     Hume, Mr. John Law   male  21.0   2nd  Southampton   \n",
       "680           Krins, Mr. Georges Alexandre   male  23.0   2nd  Southampton   \n",
       "1189           Taylor, Mr. Percy Cornelius   male  40.0   2nd  Southampton   \n",
       "1304             Woodward, Mr. John Wesley   male  32.0   2nd  Southampton   \n",
       "\n",
       "      country  ticketno  fare  sibsp  parch survived  \n",
       "144   England  250654.0   NaN    NaN    NaN       no  \n",
       "150    France  250654.0   NaN    NaN    NaN       no  \n",
       "237   England  250654.0   NaN    NaN    NaN       no  \n",
       "516   England  250654.0   NaN    NaN    NaN       no  \n",
       "576       NaN  250654.0   NaN    NaN    NaN       no  \n",
       "680   England  250654.0   NaN    NaN    NaN       no  \n",
       "1189  England  250654.0   NaN    NaN    NaN       no  \n",
       "1304  England  250654.0   NaN    NaN    NaN       no  "
      ]
     },
     "execution_count": 42,
     "metadata": {},
     "output_type": "execute_result"
    }
   ],
   "source": [
    "musician_ticket = titanic['ticketno'] == 250654.0\n",
    "titanic[musician_ticket]"
   ]
  },
  {
   "cell_type": "code",
   "execution_count": 23,
   "metadata": {
    "scrolled": true
   },
   "outputs": [],
   "source": [
    "def classify_role(row):\n",
    "    # Your code here\n",
    "    if row.loc['ticketno'] == 250654.0:\n",
    "        return 'musician'\n",
    "\n",
    "    \n",
    "    elif row.loc['name'] == 'Campbell, Mr. William Henry':\n",
    "        return 'guarantee'\n",
    "    elif row.loc['name'] == 'Cunningham, Mr. Alfred Fleming':\n",
    "        return 'guarantee'\n",
    "    elif row.loc['name'] == 'Parkes, Mr. Francis':\n",
    "        return 'guarantee'\n",
    "    elif row.loc['name'] == 'Andrews, Mr. Thomas':\n",
    "        return 'guarantee'\n",
    "    elif row.loc['name'] == 'Chisholm, Mr. Roderick Robert Crispin':\n",
    "        return 'guarantee'\n",
    "    elif row.loc['name'] == 'Frost, Mr. Anthony Wood':\n",
    "        return 'guarantee'\n",
    "    elif row.loc['name'] == 'Knight, Mr. Robert':\n",
    "        return 'guarantee'\n",
    "    elif row.loc['name'] == 'Parr, Mr. William Henry Marsh':\n",
    "        return 'guarantee'\n",
    "    elif row.loc['name'] == 'Watson, Mr. Ennis Hastings':\n",
    "        return 'guarantee'\n",
    "      \n",
    "    elif row.loc['class'] == '3rd':\n",
    "        return '3rd'\n",
    "    elif row.loc['class'] == '2nd':\n",
    "        return '2nd'\n",
    "    elif row.loc['class'] == '1st':\n",
    "        return '1st'\n",
    "    elif row.loc['class'] == 'deck crew':\n",
    "        return 'deck'\n",
    "    elif row.loc['class'] == 'victualling crew':\n",
    "        return 'catering'\n",
    "    elif row.loc['class'] == 'restaurant staff':\n",
    "        return 'catering'\n",
    "    elif row.loc['class'] == 'engineering crew':\n",
    "        return 'engineering'\n",
    "        "
   ]
  },
  {
   "cell_type": "markdown",
   "metadata": {},
   "source": [
    "`apply` your function to the `titanic` data frame to make a new Series, then\n",
    "use this Series to create a new data frame `role_by_survived_p` that is a\n",
    "cross-tabulation of the *proportion* of *male* passengers with each role, that\n",
    "survived or were lost. For example, `role_by_survived_p` will have a row\n",
    "corresponding to \"catering\", with two values, where one value will be the\n",
    "proportion of *male* catering staff that survived, and the other will be the\n",
    "proportion of male catering staff that were lost."
   ]
  },
  {
   "cell_type": "code",
   "execution_count": 26,
   "metadata": {},
   "outputs": [
    {
     "data": {
      "text/plain": [
       "0               3rd\n",
       "1               3rd\n",
       "2               3rd\n",
       "3               3rd\n",
       "4               3rd\n",
       "           ...     \n",
       "2202           deck\n",
       "2203       catering\n",
       "2204    engineering\n",
       "2205       catering\n",
       "2206       catering\n",
       "Length: 2207, dtype: object"
      ]
     },
     "execution_count": 26,
     "metadata": {},
     "output_type": "execute_result"
    }
   ],
   "source": [
    "titanic_roles = titanic.apply(classify_role, axis='columns')\n",
    "titanic_roles"
   ]
  },
  {
   "cell_type": "code",
   "execution_count": 27,
   "metadata": {},
   "outputs": [],
   "source": [
    "males = titanic['gender'] == 'male'\n",
    "males_df = titanic[males]"
   ]
  },
  {
   "cell_type": "code",
   "execution_count": 28,
   "metadata": {},
   "outputs": [
    {
     "data": {
      "text/html": [
       "<div>\n",
       "<style scoped>\n",
       "    .dataframe tbody tr th:only-of-type {\n",
       "        vertical-align: middle;\n",
       "    }\n",
       "\n",
       "    .dataframe tbody tr th {\n",
       "        vertical-align: top;\n",
       "    }\n",
       "\n",
       "    .dataframe thead th {\n",
       "        text-align: right;\n",
       "    }\n",
       "</style>\n",
       "<table border=\"1\" class=\"dataframe\">\n",
       "  <thead>\n",
       "    <tr style=\"text-align: right;\">\n",
       "      <th></th>\n",
       "      <th>gender</th>\n",
       "      <th>class</th>\n",
       "      <th>survived</th>\n",
       "    </tr>\n",
       "  </thead>\n",
       "  <tbody>\n",
       "    <tr>\n",
       "      <th>0</th>\n",
       "      <td>male</td>\n",
       "      <td>3rd</td>\n",
       "      <td>no</td>\n",
       "    </tr>\n",
       "    <tr>\n",
       "      <th>1</th>\n",
       "      <td>male</td>\n",
       "      <td>3rd</td>\n",
       "      <td>no</td>\n",
       "    </tr>\n",
       "    <tr>\n",
       "      <th>2</th>\n",
       "      <td>male</td>\n",
       "      <td>3rd</td>\n",
       "      <td>no</td>\n",
       "    </tr>\n",
       "    <tr>\n",
       "      <th>5</th>\n",
       "      <td>male</td>\n",
       "      <td>3rd</td>\n",
       "      <td>yes</td>\n",
       "    </tr>\n",
       "    <tr>\n",
       "      <th>6</th>\n",
       "      <td>male</td>\n",
       "      <td>2nd</td>\n",
       "      <td>no</td>\n",
       "    </tr>\n",
       "    <tr>\n",
       "      <th>...</th>\n",
       "      <td>...</td>\n",
       "      <td>...</td>\n",
       "      <td>...</td>\n",
       "    </tr>\n",
       "    <tr>\n",
       "      <th>2202</th>\n",
       "      <td>male</td>\n",
       "      <td>deck</td>\n",
       "      <td>yes</td>\n",
       "    </tr>\n",
       "    <tr>\n",
       "      <th>2203</th>\n",
       "      <td>male</td>\n",
       "      <td>catering</td>\n",
       "      <td>yes</td>\n",
       "    </tr>\n",
       "    <tr>\n",
       "      <th>2204</th>\n",
       "      <td>male</td>\n",
       "      <td>engineering</td>\n",
       "      <td>no</td>\n",
       "    </tr>\n",
       "    <tr>\n",
       "      <th>2205</th>\n",
       "      <td>male</td>\n",
       "      <td>catering</td>\n",
       "      <td>no</td>\n",
       "    </tr>\n",
       "    <tr>\n",
       "      <th>2206</th>\n",
       "      <td>male</td>\n",
       "      <td>catering</td>\n",
       "      <td>no</td>\n",
       "    </tr>\n",
       "  </tbody>\n",
       "</table>\n",
       "<p>1718 rows × 3 columns</p>\n",
       "</div>"
      ],
      "text/plain": [
       "     gender        class survived\n",
       "0      male          3rd       no\n",
       "1      male          3rd       no\n",
       "2      male          3rd       no\n",
       "5      male          3rd      yes\n",
       "6      male          2nd       no\n",
       "...     ...          ...      ...\n",
       "2202   male         deck      yes\n",
       "2203   male     catering      yes\n",
       "2204   male  engineering       no\n",
       "2205   male     catering       no\n",
       "2206   male     catering       no\n",
       "\n",
       "[1718 rows x 3 columns]"
      ]
     },
     "execution_count": 28,
     "metadata": {},
     "output_type": "execute_result"
    }
   ],
   "source": [
    "male_roles_df = pd.DataFrame()\n",
    "male_roles_df['gender'] = males_df['gender']\n",
    "male_roles_df['class'] = titanic_roles\n",
    "male_roles_df['survived'] = males_df['survived']\n",
    "male_roles_df"
   ]
  },
  {
   "cell_type": "code",
   "execution_count": 29,
   "metadata": {
    "scrolled": true
   },
   "outputs": [
    {
     "data": {
      "text/html": [
       "<div>\n",
       "<style scoped>\n",
       "    .dataframe tbody tr th:only-of-type {\n",
       "        vertical-align: middle;\n",
       "    }\n",
       "\n",
       "    .dataframe tbody tr th {\n",
       "        vertical-align: top;\n",
       "    }\n",
       "\n",
       "    .dataframe thead th {\n",
       "        text-align: right;\n",
       "    }\n",
       "</style>\n",
       "<table border=\"1\" class=\"dataframe\">\n",
       "  <thead>\n",
       "    <tr style=\"text-align: right;\">\n",
       "      <th>survived</th>\n",
       "      <th>no</th>\n",
       "      <th>yes</th>\n",
       "    </tr>\n",
       "    <tr>\n",
       "      <th>class</th>\n",
       "      <th></th>\n",
       "      <th></th>\n",
       "    </tr>\n",
       "  </thead>\n",
       "  <tbody>\n",
       "    <tr>\n",
       "      <th>1st</th>\n",
       "      <td>0.649718</td>\n",
       "      <td>0.350282</td>\n",
       "    </tr>\n",
       "    <tr>\n",
       "      <th>2nd</th>\n",
       "      <td>0.853659</td>\n",
       "      <td>0.146341</td>\n",
       "    </tr>\n",
       "    <tr>\n",
       "      <th>3rd</th>\n",
       "      <td>0.847870</td>\n",
       "      <td>0.152130</td>\n",
       "    </tr>\n",
       "    <tr>\n",
       "      <th>catering</th>\n",
       "      <td>0.838574</td>\n",
       "      <td>0.161426</td>\n",
       "    </tr>\n",
       "    <tr>\n",
       "      <th>deck</th>\n",
       "      <td>0.348485</td>\n",
       "      <td>0.651515</td>\n",
       "    </tr>\n",
       "    <tr>\n",
       "      <th>engineering</th>\n",
       "      <td>0.780864</td>\n",
       "      <td>0.219136</td>\n",
       "    </tr>\n",
       "    <tr>\n",
       "      <th>guarantee</th>\n",
       "      <td>1.000000</td>\n",
       "      <td>0.000000</td>\n",
       "    </tr>\n",
       "    <tr>\n",
       "      <th>musician</th>\n",
       "      <td>1.000000</td>\n",
       "      <td>0.000000</td>\n",
       "    </tr>\n",
       "  </tbody>\n",
       "</table>\n",
       "</div>"
      ],
      "text/plain": [
       "survived           no       yes\n",
       "class                          \n",
       "1st          0.649718  0.350282\n",
       "2nd          0.853659  0.146341\n",
       "3rd          0.847870  0.152130\n",
       "catering     0.838574  0.161426\n",
       "deck         0.348485  0.651515\n",
       "engineering  0.780864  0.219136\n",
       "guarantee    1.000000  0.000000\n",
       "musician     1.000000  0.000000"
      ]
     },
     "execution_count": 29,
     "metadata": {},
     "output_type": "execute_result"
    }
   ],
   "source": [
    "role_by_survived_p = pd.crosstab(male_roles_df['class'], male_roles_df['survived'], normalize = 'index')\n",
    "role_by_survived_p"
   ]
  },
  {
   "cell_type": "markdown",
   "metadata": {},
   "source": [
    "You can see that 1st class passengers had a much higher proportion of survival rate than 2nd and 3rd class passengers."
   ]
  },
  {
   "cell_type": "code",
   "execution_count": null,
   "metadata": {},
   "outputs": [],
   "source": []
  }
 ],
 "metadata": {
  "jupytext": {
   "split_at_heading": true,
   "text_representation": {
    "extension": ".Rmd",
    "format_name": "rmarkdown",
    "format_version": "1.1",
    "jupytext_version": "1.2.4"
   }
  },
  "kernelspec": {
   "display_name": "Python 3 (ipykernel)",
   "language": "python",
   "name": "python3"
  },
  "language_info": {
   "codemirror_mode": {
    "name": "ipython",
    "version": 3
   },
   "file_extension": ".py",
   "mimetype": "text/x-python",
   "name": "python",
   "nbconvert_exporter": "python",
   "pygments_lexer": "ipython3",
   "version": "3.9.7"
  }
 },
 "nbformat": 4,
 "nbformat_minor": 4
}
